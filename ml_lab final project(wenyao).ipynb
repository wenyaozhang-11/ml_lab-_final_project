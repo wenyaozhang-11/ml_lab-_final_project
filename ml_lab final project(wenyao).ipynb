{
 "cells": [
  {
   "cell_type": "code",
   "execution_count": 213,
   "id": "statutory-delight",
   "metadata": {},
   "outputs": [],
   "source": [
    "from   category_encoders       import *\n",
    "import numpy as np\n",
    "import pandas as pd\n",
    "from   sklearn.compose         import *\n",
    "from   sklearn.experimental    import enable_iterative_imputer\n",
    "from   sklearn.impute          import *\n",
    "from sklearn.linear_model import LogisticRegression\n",
    "from   sklearn.metrics         import mean_squared_error\n",
    "from   sklearn.model_selection import train_test_split\n",
    "from   sklearn.pipeline        import Pipeline\n",
    "from   sklearn.preprocessing   import *\n",
    "from sklearn.model_selection import RandomizedSearchCV\n",
    "from sklearn.decomposition import PCA\n",
    "from sklearn.metrics import accuracy_score,recall_score,precision_score,f1_score\n",
    "from sklearn.metrics import roc_curve,roc_auc_score\n",
    "from sklearn.metrics import confusion_matrix\n",
    "from sklearn.metrics import plot_confusion_matrix\n",
    "from sklearn.ensemble        import ExtraTreesClassifier, RandomForestClassifier\n",
    "from sklearn.compose import ColumnTransformer\n",
    "import matplotlib.pyplot as plt  "
   ]
  },
  {
   "cell_type": "code",
   "execution_count": 214,
   "id": "passing-array",
   "metadata": {},
   "outputs": [],
   "source": [
    "#load data from csv file\n",
    "\n",
    "pokemon = pd.read_csv('https://raw.githubusercontent.com/wenyaozhang-11/ml_lab-_final_project/main/pokemon.csv')"
   ]
  },
  {
   "cell_type": "code",
   "execution_count": 215,
   "id": "dried-wright",
   "metadata": {},
   "outputs": [],
   "source": [
    "#remove the label from fetures\n",
    "X = pokemon.drop('is_legendary',axis=1)\n",
    "# y is the label we want to predict-in this case, whether a pokemon is legendary\n",
    "y = pokemon['is_legendary']"
   ]
  },
  {
   "cell_type": "code",
   "execution_count": 216,
   "id": "urban-authentication",
   "metadata": {},
   "outputs": [],
   "source": [
    "#create training,test data, we use 8/2 split\n",
    "X_train,X_test,y_train,y_test = train_test_split(X,y,test_size=0.2,random_state = 999)"
   ]
  },
  {
   "cell_type": "markdown",
   "id": "superb-chambers",
   "metadata": {},
   "source": [
    "### Feature engineering"
   ]
  },
  {
   "cell_type": "code",
   "execution_count": 150,
   "id": "filled-admission",
   "metadata": {},
   "outputs": [],
   "source": [
    "#get the categorical columns we need\n",
    "categorical_columns = ['type1','type2','capture_rate']\n",
    "#get the continnuous columns we need\n",
    "continuous_columns=['percentage_male', 'height_m', 'weight_kg',\n",
    "       'experience_growth', 'hp', 'attack', 'base_total', 'defense',\n",
    "       'sp_attack', 'sp_defense', 'speed']\n",
    "\n",
    "# continuous variable preprocessing pipeline(filling missing values and normalization)\n",
    "con_pipe = Pipeline([('imputer', SimpleImputer(missing_values=np.nan,strategy='median', add_indicator=True)),\n",
    "                     ('scaler', StandardScaler()),\n",
    "                     ])\n",
    "#categorical variable preprocessing pipeline(filling missing values and one-hot encoding)\n",
    "cat_pipe = Pipeline([('imputer', SimpleImputer(missing_values=np.nan, strategy='most_frequent', add_indicator=True)),\n",
    "                     ('ohe', OneHotEncoder(handle_unknown='ignore'))])\n",
    "\n",
    "\n",
    "# combine preprocessing together, and drop the columns with very low correlation with y label\n",
    "preprocessing = ColumnTransformer([\n",
    "    ('categorical', cat_pipe, categorical_columns),\n",
    "                                   ('continuous' , con_pipe, continuous_columns)],remainder='drop',n_jobs=-1)"
   ]
  },
  {
   "cell_type": "markdown",
   "id": "hidden-chemistry",
   "metadata": {},
   "source": [
    "### baseline model: default logistic regression model"
   ]
  },
  {
   "cell_type": "code",
   "execution_count": 191,
   "id": "distant-briefing",
   "metadata": {},
   "outputs": [
    {
     "name": "stdout",
     "output_type": "stream",
     "text": [
      "1.0 0.8666666666666667 0.896551724137931\n",
      "[[145   1]\n",
      " [  2  13]]\n"
     ]
    },
    {
     "data": {
      "image/png": "[encoded data removed]",
      "text/plain": [
       "<Figure size 432x288 with 2 Axes>"
      ]
     },
     "metadata": {
      "needs_background": "light"
     },
     "output_type": "display_data"
    }
   ],
   "source": [
    "#build the pipeline with default logistic regression model\n",
    "pipe_lg_def = Pipeline([\n",
    "                 ('prep', preprocessing),\n",
    "                 ('clf', LogisticRegression ())\n",
    "])\n",
    "#fit the model\n",
    "pipe_lg_def.fit(X_train, y_train)\n",
    "#predict the model\n",
    "y_pred_def = pipe_lg_def.predict(X_test)\n",
    "#evaluate the model\n",
    "precision_def = precision_score(y_test,y_pred_def)\n",
    "recall_def = recall_score(y_test,y_pred_def)\n",
    "f1=(2*precision_def*recall_def)/(precision_def+recall_def)\n",
    "print(precision_def,recall_def,f1)\n",
    "\n",
    "print(confusion_matrix(y_test, y_pred_def))\n",
    "plot_confusion_matrix(pipe_lg_def,X_test, y_test,cmap='Blues') \n",
    "plt.show()"
   ]
  },
  {
   "cell_type": "markdown",
   "id": "previous-presentation",
   "metadata": {},
   "source": [
    "### ExtraTreesClassifier  Search"
   ]
  },
  {
   "cell_type": "code",
   "execution_count": 169,
   "id": "egyptian-prefix",
   "metadata": {},
   "outputs": [
    {
     "name": "stdout",
     "output_type": "stream",
     "text": [
      "Fitting 5 folds for each of 25 candidates, totalling 125 fits\n",
      "{'clf__n_estimators': 100, 'clf__max_features': 'auto', 'clf__max_depth': 150, 'clf__criterion': 'gini', 'clf__class_weight': 'balanced'}\n"
     ]
    }
   ],
   "source": [
    "#build the pipeline for extra tress classfier model\n",
    "pipe_et = Pipeline([\n",
    "                 ('prep', preprocessing),\n",
    "                 ('clf', ExtraTreesClassifier ())\n",
    "])\n",
    "\n",
    "# set hyperparameters search space of ExtraTreesClassifier\n",
    "\n",
    "hyperparameters_et = dict(clf__n_estimators = range(50, 300, 50),\n",
    "                          clf__criterion =['gini', 'entropy'],\n",
    "                        clf__max_depth = range(50, 300, 50),\n",
    "                          clf__max_features=['auto', 'sqrt', 'log2'],\n",
    "                            clf__class_weight=['balanced', 'balanced_subsample'])\n",
    "\n",
    "# random search for the best model of ExtraTreesClassifier\n",
    "clf_rand_cv_et = RandomizedSearchCV(estimator=pipe_et, \n",
    "                              param_distributions=hyperparameters_et, \n",
    "                              n_iter=25, \n",
    "                              cv=5, \n",
    "                              n_jobs=-1,\n",
    "                              verbose=True)\n",
    "clf_rand_cv_et.fit(X_train, y_train)\n",
    "# get the best model of extra trees classfier model\n",
    "print(clf_rand_cv_et.best_params_)"
   ]
  },
  {
   "cell_type": "code",
   "execution_count": 172,
   "id": "extraordinary-adjustment",
   "metadata": {},
   "outputs": [],
   "source": [
    "# fit the best model of ExtraTreesClassifier\n",
    "pipe_et = Pipeline([\n",
    "                 ('prep', preprocessing),\n",
    "                 ('clf', ExtraTreesClassifier (n_estimators=100,\n",
    "                                                max_features='auto',\n",
    "                                                max_depth= 150,\n",
    "                                                 criterion='gini',\n",
    "                                                 class_weight ='balanced'))\n",
    "])\n",
    "pipe_et.fit(X_train, y_train.values.ravel())\n",
    "y_pred_et = pipe_et.predict(X_test)\n"
   ]
  },
  {
   "cell_type": "code",
   "execution_count": 193,
   "id": "classified-terrain",
   "metadata": {},
   "outputs": [
    {
     "name": "stdout",
     "output_type": "stream",
     "text": [
      "1.0 0.8666666666666667 0.9285714285714286\n",
      "[[146   0]\n",
      " [  2  13]]\n"
     ]
    }
   ],
   "source": [
    "# evaluation metrics of ExtraTreesClassifier\n",
    "\n",
    "precision = precision_score(y_test,y_pred_et)\n",
    "recall = recall_score(y_test,y_pred_et)\n",
    "f1=(2*precision*recall)/(precision+recall)\n",
    "print(precision,recall,f1)\n",
    "print(confusion_matrix(y_test, y_pred_et))"
   ]
  },
  {
   "cell_type": "code",
   "execution_count": 179,
   "id": "institutional-variable",
   "metadata": {},
   "outputs": [
    {
     "data": {
      "image/png": "[encoded data removed]",
      "text/plain": [
       "<Figure size 432x288 with 2 Axes>"
      ]
     },
     "metadata": {
      "needs_background": "light"
     },
     "output_type": "display_data"
    }
   ],
   "source": [
    "plot_confusion_matrix(pipe_et,X_test, y_test,cmap='Blues') \n",
    "plt.show()"
   ]
  },
  {
   "cell_type": "markdown",
   "id": "built-windsor",
   "metadata": {},
   "source": [
    "### Random Forest Search"
   ]
  },
  {
   "cell_type": "code",
   "execution_count": 126,
   "id": "systematic-transmission",
   "metadata": {},
   "outputs": [
    {
     "name": "stdout",
     "output_type": "stream",
     "text": [
      "Fitting 5 folds for each of 25 candidates, totalling 125 fits\n",
      "{'clf__n_estimators': 150, 'clf__min_samples_leaf': 2, 'clf__max_features': 'sqrt', 'clf__max_depth': 250, 'clf__criterion': 'gini', 'clf__class_weight': 'balanced_subsample'}\n"
     ]
    }
   ],
   "source": [
    "#build the pipeline for random forest model\n",
    "pipe_rf = Pipeline([\n",
    "                 ('prep', preprocessing),\n",
    "                 ('clf', RandomForestClassifier())\n",
    "])\n",
    "\n",
    "# set hyperparameters search space of random forest\n",
    "hyperparameters = dict(\n",
    "                        clf__n_estimators= range(50, 300, 50),\n",
    "                        clf__criterion=['gini', 'entropy'],\n",
    "                        clf__min_samples_leaf= [1, 2],\n",
    "                        clf__max_depth=range(50, 300, 50),\n",
    "                        clf__max_features=['auto', 'sqrt', 'log2'],\n",
    "                        clf__class_weight=['balanced', 'balanced_subsample'])\n",
    "\n",
    "# random search for the best model of random forest\n",
    "clf_rand_cv = RandomizedSearchCV(estimator=pipe_rf, \n",
    "                              param_distributions=hyperparameters, \n",
    "                              n_iter=25, \n",
    "                              cv=5, \n",
    "                              n_jobs=-1,\n",
    "                              verbose=True)\n",
    "clf_rand_cv.fit(X_train, y_train)\n",
    "#get the best model for random forest\n",
    "print(clf_rand_cv.best_params_)\n",
    "\n"
   ]
  },
  {
   "cell_type": "code",
   "execution_count": 167,
   "id": "continental-beach",
   "metadata": {},
   "outputs": [],
   "source": [
    "# fit the best model of random forest\n",
    "pipe_rf = Pipeline([\n",
    "                 ('prep', preprocessing),\n",
    "                 ('clf', RandomForestClassifier (n_estimators=150,\n",
    "                                                min_samples_leaf=2,\n",
    "                                                max_features='sqrt',\n",
    "                                                max_depth=250,\n",
    "                                                criterion='gini',\n",
    "                                                class_weight='balanced_subsample'))\n",
    "])\n",
    "pipe_rf.fit(X_train, y_train.values.ravel())\n",
    "y_pred_rf = pipe_rf.predict(X_test)"
   ]
  },
  {
   "cell_type": "code",
   "execution_count": 194,
   "id": "representative-voltage",
   "metadata": {},
   "outputs": [
    {
     "name": "stdout",
     "output_type": "stream",
     "text": [
      "0.9375 1.0 0.967741935483871\n",
      "[[145   1]\n",
      " [  0  15]]\n"
     ]
    }
   ],
   "source": [
    "# evaluation metrics of random forest\n",
    "precision = precision_score(y_test,y_pred_rf)\n",
    "recall = recall_score(y_test,y_pred_rf)\n",
    "f1=(2*precision*recall)/(precision+recall)\n",
    "print(precision,recall,f1)\n",
    "print(confusion_matrix(y_test, y_pred_rf))"
   ]
  },
  {
   "cell_type": "code",
   "execution_count": 178,
   "id": "legendary-burke",
   "metadata": {},
   "outputs": [
    {
     "data": {
      "image/png": "[encoded data removed]",
      "text/plain": [
       "<Figure size 432x288 with 2 Axes>"
      ]
     },
     "metadata": {
      "needs_background": "light"
     },
     "output_type": "display_data"
    }
   ],
   "source": [
    "plot_confusion_matrix(pipe_rf,X_test, y_test,cmap='Blues') \n",
    "plt.show()"
   ]
  },
  {
   "cell_type": "markdown",
   "id": "declared-blast",
   "metadata": {},
   "source": [
    "### result"
   ]
  },
  {
   "cell_type": "code",
   "execution_count": 196,
   "id": "floppy-montana",
   "metadata": {},
   "outputs": [],
   "source": [
    "\n",
    "# the best model is Random forest with precision:0.94, recall:1, f1_score:0.97\n",
    "#the hyperparameters combo is:{'clf__n_estimators': 150, 'clf__min_samples_leaf': 2, 'clf__max_features': 'sqrt', 'clf__max_depth': 250, 'clf__criterion': 'gini', 'clf__class_weight': 'balanced_subsample'}\n",
    "# the random forest and extra trees classfier both work better than the default model.\n",
    "#the attributes that reflect pokemon’s qualities of ‘rare and powerful’ work well on predicting what is a legendary Pokemon\n",
    " "
   ]
  },
  {
   "cell_type": "code",
   "execution_count": null,
   "id": "fifth-airplane",
   "metadata": {},
   "outputs": [],
   "source": []
  }
 ],
 "metadata": {
  "kernelspec": {
   "display_name": "Python 3",
   "language": "python",
   "name": "python3"
  },
  "language_info": {
   "codemirror_mode": {
    "name": "ipython",
    "version": 3
   },
   "file_extension": ".py",
   "mimetype": "text/x-python",
   "name": "python",
   "nbconvert_exporter": "python",
   "pygments_lexer": "ipython3",
   "version": "3.8.2"
  }
 },
 "nbformat": 4,
 "nbformat_minor": 5
}
